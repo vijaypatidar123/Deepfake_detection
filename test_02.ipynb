{
 "cells": [
  {
   "cell_type": "code",
   "execution_count": 1,
   "id": "7ba01a19",
   "metadata": {},
   "outputs": [
    {
     "name": "stderr",
     "output_type": "stream",
     "text": [
      "C:\\Users\\ASUS\\anaconda3\\lib\\site-packages\\scipy\\__init__.py:155: UserWarning: A NumPy version >=1.18.5 and <1.25.0 is required for this version of SciPy (detected version 1.26.4\n",
      "  warnings.warn(f\"A NumPy version >={np_minversion} and <{np_maxversion}\"\n"
     ]
    }
   ],
   "source": [
    "import os\n",
    "import numpy as np\n",
    "import tensorflow as tf\n",
    "from tensorflow.keras.applications import ResNet50\n",
    "from tensorflow.keras.layers import LSTM, Dense, Input, GlobalAveragePooling2D, Attention, TimeDistributed\n",
    "from tensorflow.keras.models import Model\n",
    "from sklearn.linear_model import LogisticRegression\n",
    "from sklearn.pipeline import make_pipeline\n",
    "from sklearn.preprocessing import StandardScaler\n",
    "from sklearn.metrics import accuracy_score"
   ]
  },
  {
   "cell_type": "code",
   "execution_count": 3,
   "id": "1273b8d5",
   "metadata": {},
   "outputs": [],
   "source": [
    "# device_name = tf.test.gpu_device_name()\n",
    "# if device_name != '/device:GPU:0':\n",
    "#     raise SystemError('GPU device not found')\n",
    "# print('Found GPU at: {}'.format(device_name))"
   ]
  },
  {
   "cell_type": "code",
   "execution_count": 5,
   "id": "e4cc9684",
   "metadata": {},
   "outputs": [],
   "source": [
    "data_dir = \"C:/Users/ASUS/Desktop/deepfake/prc\""
   ]
  },
  {
   "cell_type": "code",
   "execution_count": 6,
   "id": "f53248ff",
   "metadata": {},
   "outputs": [],
   "source": [
    "batch_size = 32\n",
    "img_size = (224, 224)\n",
    "num_classes = 2 "
   ]
  },
  {
   "cell_type": "code",
   "execution_count": 7,
   "id": "4943059e",
   "metadata": {},
   "outputs": [
    {
     "name": "stdout",
     "output_type": "stream",
     "text": [
      "Found 2432 files belonging to 2 classes.\n",
      "Using 1946 files for training.\n",
      "Using 486 files for validation.\n"
     ]
    }
   ],
   "source": [
    "dataset = tf.keras.preprocessing.image_dataset_from_directory(\n",
    "    data_dir,\n",
    "    labels='inferred',\n",
    "    label_mode='int',\n",
    "    image_size=img_size,\n",
    "    batch_size=batch_size,\n",
    "    shuffle=True,\n",
    "    validation_split=0.2,\n",
    "    subset='both',\n",
    "    seed=123\n",
    ")"
   ]
  },
  {
   "cell_type": "code",
   "execution_count": 8,
   "id": "92a69e42",
   "metadata": {},
   "outputs": [],
   "source": [
    "train_dataset = dataset[0]\n",
    "val_dataset = dataset[1]"
   ]
  },
  {
   "cell_type": "code",
   "execution_count": 9,
   "id": "884b89df",
   "metadata": {},
   "outputs": [],
   "source": [
    "# Optionally create a separate test dataset\n",
    "test_dataset = val_dataset.take(int(0.5 * len(val_dataset)))\n",
    "val_dataset = val_dataset.skip(int(0.5 * len(val_dataset)))"
   ]
  },
  {
   "cell_type": "code",
   "execution_count": 10,
   "id": "f0fffe3a",
   "metadata": {},
   "outputs": [],
   "source": [
    "data_augmentation = tf.keras.Sequential([\n",
    "    tf.keras.layers.RandomFlip('horizontal_and_vertical'),\n",
    "    tf.keras.layers.RandomRotation(0.2),\n",
    "])"
   ]
  },
  {
   "cell_type": "code",
   "execution_count": 11,
   "id": "f34033b2",
   "metadata": {},
   "outputs": [],
   "source": [
    "train_dataset = train_dataset.map(\n",
    "    lambda x, y: (data_augmentation(x, training=True), y),\n",
    "    num_parallel_calls=tf.data.experimental.AUTOTUNE\n",
    ")"
   ]
  },
  {
   "cell_type": "code",
   "execution_count": 12,
   "id": "cd0d7b79",
   "metadata": {},
   "outputs": [],
   "source": [
    "AUTOTUNE = tf.data.experimental.AUTOTUNE"
   ]
  },
  {
   "cell_type": "code",
   "execution_count": 13,
   "id": "1df19ffa",
   "metadata": {},
   "outputs": [],
   "source": [
    "train_dataset = train_dataset.prefetch(buffer_size=AUTOTUNE)\n",
    "val_dataset = val_dataset.prefetch(buffer_size=AUTOTUNE)\n",
    "test_dataset = test_dataset.prefetch(buffer_size=AUTOTUNE)"
   ]
  },
  {
   "cell_type": "code",
   "execution_count": 14,
   "id": "c0695e27",
   "metadata": {},
   "outputs": [],
   "source": [
    "def create_resnet_model(input_shape):\n",
    "    base_model = ResNet50(include_top=False, input_shape=input_shape, weights='imagenet')\n",
    "    x = GlobalAveragePooling2D()(base_model.output)\n",
    "    model = Model(inputs=base_model.input, outputs=x)\n",
    "    return model"
   ]
  },
  {
   "cell_type": "code",
   "execution_count": 15,
   "id": "ebc92a42",
   "metadata": {},
   "outputs": [],
   "source": [
    "def create_attention_lstm_model(input_shape):\n",
    "    input_layer = Input(shape=input_shape)\n",
    "    lstm_out = LSTM(128, return_sequences=True)(input_layer)\n",
    "    attention = Attention()([lstm_out, lstm_out])\n",
    "    x = tf.reduce_mean(attention, axis=1)\n",
    "    model = Model(inputs=input_layer, outputs=x)\n",
    "    return model"
   ]
  },
  {
   "cell_type": "code",
   "execution_count": 16,
   "id": "4be1d94c",
   "metadata": {},
   "outputs": [],
   "source": [
    "resnet_input_shape = (img_size[0], img_size[1], 3)\n",
    "resnet_model = create_resnet_model(resnet_input_shape)"
   ]
  },
  {
   "cell_type": "code",
   "execution_count": 20,
   "id": "ee0b9452",
   "metadata": {},
   "outputs": [],
   "source": [
    "from tensorflow.keras.layers import  Layer"
   ]
  },
  {
   "cell_type": "code",
   "execution_count": 22,
   "id": "601002d8",
   "metadata": {},
   "outputs": [],
   "source": [
    "def create_attention_lstm_model(input_shape):\n",
    "    input_layer = Input(shape=input_shape)\n",
    "    lstm_out = LSTM(128, return_sequences=True)(input_layer)\n",
    "    attention = Attention()([lstm_out, lstm_out])\n",
    "    x = tf.reduce_mean(attention, axis=1)\n",
    "    model = Model(inputs=input_layer, outputs=x)\n",
    "    return model"
   ]
  },
  {
   "cell_type": "code",
   "execution_count": 24,
   "id": "a9a2dda7",
   "metadata": {},
   "outputs": [],
   "source": [
    "class CombinedModel(tf.keras.Model):\n",
    "    def __init__(self, resnet_model, lstm_model):\n",
    "        super(CombinedModel, self).__init__()\n",
    "        self.resnet_feature_extractor = ResNetFeatureExtractor(resnet_model)\n",
    "        self.lstm_model = lstm_model\n",
    "\n",
    "    def call(self, inputs):\n",
    "        features = self.resnet_feature_extractor(inputs)\n",
    "        lstm_features = self.lstm_model(features)\n",
    "        return lstm_features"
   ]
  },
  {
   "cell_type": "code",
   "execution_count": 26,
   "id": "5c8e7bf2",
   "metadata": {},
   "outputs": [],
   "source": []
  },
  {
   "cell_type": "code",
   "execution_count": 27,
   "id": "7b4353c4",
   "metadata": {},
   "outputs": [],
   "source": [
    "attention_lstm_layer = AttentionLSTM()"
   ]
  },
  {
   "cell_type": "code",
   "execution_count": 28,
   "id": "5ae2d9d1",
   "metadata": {},
   "outputs": [],
   "source": [
    "combined_model = CombinedModel(resnet_model, attention_lstm_layer)"
   ]
  },
  {
   "cell_type": "code",
   "execution_count": 38,
   "id": "c603aa9b",
   "metadata": {},
   "outputs": [],
   "source": [
    "class AttentionLSTM(Layer):\n",
    "    def __init__(self, lstm_units=128):\n",
    "        super(AttentionLSTM, self).__init__()\n",
    "        self.lstm = LSTM(lstm_units, return_sequences=True)\n",
    "        self.attention = Attention()\n",
    "\n",
    "    def call(self, inputs):\n",
    "        lstm_out = self.lstm(inputs)\n",
    "        tf.print(\"LSTM output shape:\", tf.shape(lstm_out))\n",
    "        \n",
    "        attention_out = self.attention([lstm_out, lstm_out])\n",
    "        tf.print(\"Attention output shape:\", tf.shape(attention_out))\n",
    "        \n",
    "        return tf.reduce_mean(attention_out, axis=1)"
   ]
  },
  {
   "cell_type": "code",
   "execution_count": 33,
   "id": "9cbbc1b8",
   "metadata": {},
   "outputs": [],
   "source": [
    "class ResNetFeatureExtractor(Layer):\n",
    "    def __init__(self, resnet_model):\n",
    "        super(ResNetFeatureExtractor, self).__init__()\n",
    "        self.resnet_model = resnet_model\n",
    "\n",
    "    def call(self, inputs):\n",
    "        # Check if inputs have 4 or 5 dimensions\n",
    "        if len(inputs.shape) == 4:\n",
    "            # Reshape to (batch_size, time_steps, height, width, channels) with time_steps=1\n",
    "            inputs = tf.expand_dims(inputs, axis=1)\n",
    "        elif len(inputs.shape) != 5:\n",
    "            raise ValueError(\"Expected input to be 4D or 5D, but got shape: {}\".format(inputs.shape))\n",
    "\n",
    "        # Reshape to (batch_size * time_steps, height, width, channels) for ResNet processing\n",
    "        batch_size, time_steps, height, width, channels = tf.shape(inputs)\n",
    "        inputs = tf.reshape(inputs, (-1, height, width, channels))\n",
    "\n",
    "        # Extract features using ResNet\n",
    "        features = self.resnet_model(inputs)\n",
    "\n",
    "        # Reshape features back to (batch_size, time_steps, feature_dim)\n",
    "        features = tf.reshape(features, (batch_size, time_steps, -1))\n",
    "        return features"
   ]
  },
  {
   "cell_type": "code",
   "execution_count": 35,
   "id": "5909f506",
   "metadata": {},
   "outputs": [],
   "source": [
    "\n"
   ]
  },
  {
   "cell_type": "code",
   "execution_count": 39,
   "id": "7ab58d64",
   "metadata": {},
   "outputs": [],
   "source": [
    "def extract_features(dataset, combined_model):\n",
    "    features = []\n",
    "    labels = []\n",
    "\n",
    "    for images, label in dataset:\n",
    "        images_np = images.numpy()\n",
    "        label_np = label.numpy()\n",
    "        \n",
    "        tf.print(\"Images shape before feature extraction:\", tf.shape(images))\n",
    "        batch_features = combined_model(images_np, training=False)\n",
    "        tf.print(\"Batch features shape:\", tf.shape(batch_features))\n",
    "        \n",
    "        features.append(batch_features)\n",
    "        labels.append(label_np)\n",
    "\n",
    "    features = np.concatenate([f for f in features], axis=0)\n",
    "    labels = np.concatenate(labels, axis=0)\n",
    "\n",
    "    return features, labels"
   ]
  },
  {
   "cell_type": "code",
   "execution_count": 40,
   "id": "1d3e716c",
   "metadata": {},
   "outputs": [
    {
     "name": "stdout",
     "output_type": "stream",
     "text": [
      "Extracted features shape: [32 1 2048]\n",
      "LSTM output shape: [32 1 128]\n",
      "Attention output shape: [32 1 128]\n",
      "LSTM features shape: [32 128]\n"
     ]
    }
   ],
   "source": [
    "# Create dummy data\n",
    "dummy_images = tf.random.normal([batch_size, 1, img_size[0], img_size[1], 3])\n",
    "dummy_labels = tf.random.uniform([batch_size], maxval=num_classes, dtype=tf.int32)\n",
    "\n",
    "# Test ResNetFeatureExtractor\n",
    "feature_extractor = ResNetFeatureExtractor(resnet_model)\n",
    "extracted_features = feature_extractor(dummy_images)\n",
    "tf.print(\"Extracted features shape:\", tf.shape(extracted_features))\n",
    "\n",
    "# Test AttentionLSTM\n",
    "attention_lstm = AttentionLSTM()\n",
    "lstm_features = attention_lstm(extracted_features)\n",
    "tf.print(\"LSTM features shape:\", tf.shape(lstm_features))\n"
   ]
  },
  {
   "cell_type": "code",
   "execution_count": 42,
   "id": "ddfe0cb8",
   "metadata": {},
   "outputs": [
    {
     "name": "stdout",
     "output_type": "stream",
     "text": [
      "Train images shape: (32, 224, 224, 3)\n",
      "Train labels shape: (32,)\n",
      "Val images shape: (32, 224, 224, 3)\n",
      "Val labels shape: (32,)\n",
      "Test images shape: (32, 224, 224, 3)\n",
      "Test labels shape: (32,)\n"
     ]
    }
   ],
   "source": [
    "for images, labels in train_dataset.take(1):\n",
    "    print(\"Train images shape:\", images.shape)\n",
    "    print(\"Train labels shape:\", labels.shape)\n",
    "for images, labels in val_dataset.take(1):\n",
    "    print(\"Val images shape:\", images.shape)\n",
    "    print(\"Val labels shape:\", labels.shape)\n",
    "for images, labels in test_dataset.take(1):\n",
    "    print(\"Test images shape:\", images.shape)\n",
    "    print(\"Test labels shape:\", labels.shape)\n"
   ]
  },
  {
   "cell_type": "code",
   "execution_count": 43,
   "id": "81058a50",
   "metadata": {},
   "outputs": [],
   "source": [
    "tf.config.run_functions_eagerly(True)"
   ]
  },
  {
   "cell_type": "code",
   "execution_count": 45,
   "id": "48659d59",
   "metadata": {},
   "outputs": [
    {
     "name": "stdout",
     "output_type": "stream",
     "text": [
      "Batch images shape: (32, 224, 224, 3)\n",
      "Batch labels shape: (32,)\n",
      "Batch features shape: (32, 128)\n",
      "Batch images shape: (32, 224, 224, 3)\n",
      "Batch labels shape: (32,)\n",
      "Batch features shape: (32, 128)\n",
      "Batch images shape: (32, 224, 224, 3)\n",
      "Batch labels shape: (32,)\n",
      "Batch features shape: (32, 128)\n",
      "Batch images shape: (32, 224, 224, 3)\n",
      "Batch labels shape: (32,)\n",
      "Batch features shape: (32, 128)\n",
      "Batch images shape: (32, 224, 224, 3)\n",
      "Batch labels shape: (32,)\n",
      "Batch features shape: (32, 128)\n",
      "Batch images shape: (32, 224, 224, 3)\n",
      "Batch labels shape: (32,)\n",
      "Batch features shape: (32, 128)\n",
      "Batch images shape: (32, 224, 224, 3)\n",
      "Batch labels shape: (32,)\n",
      "Batch features shape: (32, 128)\n",
      "Batch images shape: (32, 224, 224, 3)\n",
      "Batch labels shape: (32,)\n",
      "Batch features shape: (32, 128)\n",
      "Batch images shape: (32, 224, 224, 3)\n",
      "Batch labels shape: (32,)\n",
      "Batch features shape: (32, 128)\n",
      "Batch images shape: (32, 224, 224, 3)\n",
      "Batch labels shape: (32,)\n",
      "Batch features shape: (32, 128)\n",
      "Batch images shape: (32, 224, 224, 3)\n",
      "Batch labels shape: (32,)\n",
      "Batch features shape: (32, 128)\n",
      "Batch images shape: (32, 224, 224, 3)\n",
      "Batch labels shape: (32,)\n",
      "Batch features shape: (32, 128)\n",
      "Batch images shape: (32, 224, 224, 3)\n",
      "Batch labels shape: (32,)\n",
      "Batch features shape: (32, 128)\n",
      "Batch images shape: (32, 224, 224, 3)\n",
      "Batch labels shape: (32,)\n",
      "Batch features shape: (32, 128)\n",
      "Batch images shape: (32, 224, 224, 3)\n",
      "Batch labels shape: (32,)\n",
      "Batch features shape: (32, 128)\n",
      "Batch images shape: (32, 224, 224, 3)\n",
      "Batch labels shape: (32,)\n",
      "Batch features shape: (32, 128)\n",
      "Batch images shape: (32, 224, 224, 3)\n",
      "Batch labels shape: (32,)\n",
      "Batch features shape: (32, 128)\n",
      "Batch images shape: (6, 224, 224, 3)\n",
      "Batch labels shape: (6,)\n"
     ]
    },
    {
     "name": "stderr",
     "output_type": "stream",
     "text": [
      "C:\\Users\\ASUS\\anaconda3\\lib\\site-packages\\keras\\src\\ops\\nn.py:545: UserWarning: You are using a softmax over axis -1 of a tensor of shape (6, 1, 1). This axis has size 1. The softmax operation will always return the value 1, which is likely not what you intended. Did you mean to use a sigmoid instead?\n",
      "  warnings.warn(\n"
     ]
    },
    {
     "name": "stdout",
     "output_type": "stream",
     "text": [
      "Batch features shape: (6, 128)\n",
      "Batch images shape: (32, 224, 224, 3)\n",
      "Batch labels shape: (32,)\n",
      "Batch features shape: (32, 128)\n",
      "Batch images shape: (32, 224, 224, 3)\n",
      "Batch labels shape: (32,)\n",
      "Batch features shape: (32, 128)\n",
      "Batch images shape: (32, 224, 224, 3)\n",
      "Batch labels shape: (32,)\n",
      "Batch features shape: (32, 128)\n",
      "Batch images shape: (32, 224, 224, 3)\n",
      "Batch labels shape: (32,)\n",
      "Batch features shape: (32, 128)\n",
      "Batch images shape: (32, 224, 224, 3)\n",
      "Batch labels shape: (32,)\n",
      "Batch features shape: (32, 128)\n",
      "Batch images shape: (32, 224, 224, 3)\n",
      "Batch labels shape: (32,)\n",
      "Batch features shape: (32, 128)\n",
      "Batch images shape: (32, 224, 224, 3)\n",
      "Batch labels shape: (32,)\n",
      "Batch features shape: (32, 128)\n",
      "Batch images shape: (32, 224, 224, 3)\n",
      "Batch labels shape: (32,)\n",
      "Batch features shape: (32, 128)\n"
     ]
    }
   ],
   "source": [
    "def create_resnet_model(input_shape):\n",
    "    base_model = ResNet50(include_top=False, input_shape=input_shape, weights='imagenet')\n",
    "    x = GlobalAveragePooling2D()(base_model.output)\n",
    "    model = Model(inputs=base_model.input, outputs=x)\n",
    "    return model\n",
    "\n",
    "resnet_input_shape = (224, 224, 3)\n",
    "resnet_model = create_resnet_model(resnet_input_shape)\n",
    "\n",
    "class ResNetFeatureExtractor(Layer):\n",
    "    def __init__(self, resnet_model):\n",
    "        super(ResNetFeatureExtractor, self).__init__()\n",
    "        self.resnet_model = resnet_model\n",
    "\n",
    "    def call(self, inputs):\n",
    "        if len(inputs.shape) == 4:\n",
    "            inputs = tf.expand_dims(inputs, axis=1)\n",
    "        elif len(inputs.shape) != 5:\n",
    "            raise ValueError(\"Expected input to be 4D or 5D, but got shape: {}\".format(inputs.shape))\n",
    "\n",
    "        batch_size, time_steps, height, width, channels = tf.shape(inputs)\n",
    "        inputs = tf.reshape(inputs, (-1, height, width, channels))\n",
    "        features = self.resnet_model(inputs)\n",
    "        features = tf.reshape(features, (batch_size, time_steps, -1))\n",
    "        return features\n",
    "\n",
    "class AttentionLSTM(Layer):\n",
    "    def __init__(self, lstm_units=128):\n",
    "        super(AttentionLSTM, self).__init__()\n",
    "        self.lstm = LSTM(lstm_units, return_sequences=True)\n",
    "        self.attention = Attention()\n",
    "\n",
    "    def call(self, inputs):\n",
    "        lstm_out = self.lstm(inputs)\n",
    "        attention_out = self.attention([lstm_out, lstm_out])\n",
    "        return tf.reduce_mean(attention_out, axis=1)\n",
    "\n",
    "class CombinedModel(tf.keras.Model):\n",
    "    def __init__(self, resnet_model, attention_lstm):\n",
    "        super(CombinedModel, self).__init__()\n",
    "        self.resnet_feature_extractor = ResNetFeatureExtractor(resnet_model)\n",
    "        self.attention_lstm = attention_lstm\n",
    "\n",
    "    def call(self, inputs):\n",
    "        features = self.resnet_feature_extractor(inputs)\n",
    "        lstm_features = self.attention_lstm(features)\n",
    "        return lstm_features\n",
    "\n",
    "attention_lstm_layer = AttentionLSTM()\n",
    "combined_model = CombinedModel(resnet_model, attention_lstm_layer)\n",
    "\n",
    "def extract_features(dataset, combined_model):\n",
    "    features = []\n",
    "    labels = []\n",
    "\n",
    "    for images, label in dataset:\n",
    "        try:\n",
    "            print(\"Batch images shape:\", images.shape)\n",
    "            print(\"Batch labels shape:\", label.shape)\n",
    "            \n",
    "            batch_features = combined_model(images, training=False)\n",
    "            \n",
    "            print(\"Batch features shape:\", batch_features.shape)\n",
    "            \n",
    "            features.append(batch_features)\n",
    "            labels.append(label)\n",
    "        except Exception as e:\n",
    "            print(\"Error:\", e)\n",
    "            break\n",
    "\n",
    "    features = np.concatenate([f.numpy() for f in features], axis=0)\n",
    "    labels = np.concatenate([l.numpy() for l in labels], axis=0)\n",
    "\n",
    "    return features, labels\n",
    "\n",
    "# Example usage with dummy data\n",
    "train_features, train_labels = extract_features(small_train_dataset, combined_model)\n",
    "val_features, val_labels = extract_features(small_val_dataset, combined_model)\n",
    "test_features, test_labels = extract_features(small_test_dataset, combined_model)"
   ]
  },
  {
   "cell_type": "code",
   "execution_count": 46,
   "id": "c9c57b25",
   "metadata": {},
   "outputs": [
    {
     "name": "stdout",
     "output_type": "stream",
     "text": [
      "Batch images shape: (32, 224, 224, 3)\n",
      "Batch labels shape: (32,)\n",
      "Batch features shape: (32, 128)\n",
      "Batch images shape: (32, 224, 224, 3)\n",
      "Batch labels shape: (32,)\n",
      "Batch features shape: (32, 128)\n",
      "Batch images shape: (32, 224, 224, 3)\n",
      "Batch labels shape: (32,)\n",
      "Batch features shape: (32, 128)\n",
      "Batch images shape: (32, 224, 224, 3)\n",
      "Batch labels shape: (32,)\n",
      "Batch features shape: (32, 128)\n",
      "Batch images shape: (32, 224, 224, 3)\n",
      "Batch labels shape: (32,)\n",
      "Batch features shape: (32, 128)\n",
      "Batch images shape: (32, 224, 224, 3)\n",
      "Batch labels shape: (32,)\n",
      "Batch features shape: (32, 128)\n",
      "Batch images shape: (32, 224, 224, 3)\n",
      "Batch labels shape: (32,)\n",
      "Batch features shape: (32, 128)\n",
      "Batch images shape: (32, 224, 224, 3)\n",
      "Batch labels shape: (32,)\n",
      "Batch features shape: (32, 128)\n",
      "Batch images shape: (32, 224, 224, 3)\n",
      "Batch labels shape: (32,)\n",
      "Batch features shape: (32, 128)\n",
      "Batch images shape: (32, 224, 224, 3)\n",
      "Batch labels shape: (32,)\n",
      "Batch features shape: (32, 128)\n",
      "Batch images shape: (32, 224, 224, 3)\n",
      "Batch labels shape: (32,)\n",
      "Batch features shape: (32, 128)\n",
      "Batch images shape: (32, 224, 224, 3)\n",
      "Batch labels shape: (32,)\n",
      "Batch features shape: (32, 128)\n",
      "Batch images shape: (32, 224, 224, 3)\n",
      "Batch labels shape: (32,)\n",
      "Batch features shape: (32, 128)\n",
      "Batch images shape: (32, 224, 224, 3)\n",
      "Batch labels shape: (32,)\n",
      "Batch features shape: (32, 128)\n",
      "Batch images shape: (32, 224, 224, 3)\n",
      "Batch labels shape: (32,)\n",
      "Batch features shape: (32, 128)\n",
      "Batch images shape: (32, 224, 224, 3)\n",
      "Batch labels shape: (32,)\n",
      "Batch features shape: (32, 128)\n",
      "Batch images shape: (32, 224, 224, 3)\n",
      "Batch labels shape: (32,)\n",
      "Batch features shape: (32, 128)\n",
      "Batch images shape: (32, 224, 224, 3)\n",
      "Batch labels shape: (32,)\n",
      "Batch features shape: (32, 128)\n",
      "Batch images shape: (32, 224, 224, 3)\n",
      "Batch labels shape: (32,)\n",
      "Batch features shape: (32, 128)\n",
      "Batch images shape: (32, 224, 224, 3)\n",
      "Batch labels shape: (32,)\n",
      "Batch features shape: (32, 128)\n",
      "Batch images shape: (32, 224, 224, 3)\n",
      "Batch labels shape: (32,)\n",
      "Batch features shape: (32, 128)\n",
      "Batch images shape: (32, 224, 224, 3)\n",
      "Batch labels shape: (32,)\n",
      "Batch features shape: (32, 128)\n",
      "Batch images shape: (32, 224, 224, 3)\n",
      "Batch labels shape: (32,)\n",
      "Batch features shape: (32, 128)\n",
      "Batch images shape: (32, 224, 224, 3)\n",
      "Batch labels shape: (32,)\n",
      "Batch features shape: (32, 128)\n",
      "Batch images shape: (32, 224, 224, 3)\n",
      "Batch labels shape: (32,)\n",
      "Batch features shape: (32, 128)\n",
      "Batch images shape: (32, 224, 224, 3)\n",
      "Batch labels shape: (32,)\n",
      "Batch features shape: (32, 128)\n",
      "Batch images shape: (32, 224, 224, 3)\n",
      "Batch labels shape: (32,)\n",
      "Batch features shape: (32, 128)\n",
      "Batch images shape: (32, 224, 224, 3)\n",
      "Batch labels shape: (32,)\n",
      "Batch features shape: (32, 128)\n",
      "Batch images shape: (32, 224, 224, 3)\n",
      "Batch labels shape: (32,)\n",
      "Batch features shape: (32, 128)\n",
      "Batch images shape: (32, 224, 224, 3)\n",
      "Batch labels shape: (32,)\n",
      "Batch features shape: (32, 128)\n",
      "Batch images shape: (32, 224, 224, 3)\n",
      "Batch labels shape: (32,)\n",
      "Batch features shape: (32, 128)\n",
      "Batch images shape: (32, 224, 224, 3)\n",
      "Batch labels shape: (32,)\n",
      "Batch features shape: (32, 128)\n",
      "Batch images shape: (32, 224, 224, 3)\n",
      "Batch labels shape: (32,)\n",
      "Batch features shape: (32, 128)\n",
      "Batch images shape: (32, 224, 224, 3)\n",
      "Batch labels shape: (32,)\n",
      "Batch features shape: (32, 128)\n",
      "Batch images shape: (32, 224, 224, 3)\n",
      "Batch labels shape: (32,)\n",
      "Batch features shape: (32, 128)\n",
      "Batch images shape: (32, 224, 224, 3)\n",
      "Batch labels shape: (32,)\n",
      "Batch features shape: (32, 128)\n",
      "Batch images shape: (32, 224, 224, 3)\n",
      "Batch labels shape: (32,)\n",
      "Batch features shape: (32, 128)\n",
      "Batch images shape: (32, 224, 224, 3)\n",
      "Batch labels shape: (32,)\n",
      "Batch features shape: (32, 128)\n",
      "Batch images shape: (32, 224, 224, 3)\n",
      "Batch labels shape: (32,)\n",
      "Batch features shape: (32, 128)\n",
      "Batch images shape: (32, 224, 224, 3)\n",
      "Batch labels shape: (32,)\n",
      "Batch features shape: (32, 128)\n",
      "Batch images shape: (32, 224, 224, 3)\n",
      "Batch labels shape: (32,)\n",
      "Batch features shape: (32, 128)\n",
      "Batch images shape: (32, 224, 224, 3)\n",
      "Batch labels shape: (32,)\n",
      "Batch features shape: (32, 128)\n",
      "Batch images shape: (32, 224, 224, 3)\n",
      "Batch labels shape: (32,)\n",
      "Batch features shape: (32, 128)\n",
      "Batch images shape: (32, 224, 224, 3)\n",
      "Batch labels shape: (32,)\n",
      "Batch features shape: (32, 128)\n",
      "Batch images shape: (32, 224, 224, 3)\n",
      "Batch labels shape: (32,)\n",
      "Batch features shape: (32, 128)\n",
      "Batch images shape: (32, 224, 224, 3)\n",
      "Batch labels shape: (32,)\n",
      "Batch features shape: (32, 128)\n",
      "Batch images shape: (32, 224, 224, 3)\n",
      "Batch labels shape: (32,)\n",
      "Batch features shape: (32, 128)\n",
      "Batch images shape: (32, 224, 224, 3)\n",
      "Batch labels shape: (32,)\n",
      "Batch features shape: (32, 128)\n",
      "Batch images shape: (32, 224, 224, 3)\n",
      "Batch labels shape: (32,)\n",
      "Batch features shape: (32, 128)\n",
      "Batch images shape: (32, 224, 224, 3)\n",
      "Batch labels shape: (32,)\n",
      "Batch features shape: (32, 128)\n",
      "Batch images shape: (32, 224, 224, 3)\n",
      "Batch labels shape: (32,)\n",
      "Batch features shape: (32, 128)\n",
      "Batch images shape: (32, 224, 224, 3)\n",
      "Batch labels shape: (32,)\n",
      "Batch features shape: (32, 128)\n",
      "Batch images shape: (32, 224, 224, 3)\n",
      "Batch labels shape: (32,)\n",
      "Batch features shape: (32, 128)\n",
      "Batch images shape: (32, 224, 224, 3)\n",
      "Batch labels shape: (32,)\n",
      "Batch features shape: (32, 128)\n",
      "Batch images shape: (32, 224, 224, 3)\n",
      "Batch labels shape: (32,)\n",
      "Batch features shape: (32, 128)\n",
      "Batch images shape: (32, 224, 224, 3)\n",
      "Batch labels shape: (32,)\n",
      "Batch features shape: (32, 128)\n",
      "Batch images shape: (32, 224, 224, 3)\n",
      "Batch labels shape: (32,)\n",
      "Batch features shape: (32, 128)\n",
      "Batch images shape: (32, 224, 224, 3)\n",
      "Batch labels shape: (32,)\n",
      "Batch features shape: (32, 128)\n",
      "Batch images shape: (32, 224, 224, 3)\n",
      "Batch labels shape: (32,)\n",
      "Batch features shape: (32, 128)\n",
      "Batch images shape: (32, 224, 224, 3)\n",
      "Batch labels shape: (32,)\n",
      "Batch features shape: (32, 128)\n",
      "Batch images shape: (26, 224, 224, 3)\n",
      "Batch labels shape: (26,)\n"
     ]
    },
    {
     "name": "stderr",
     "output_type": "stream",
     "text": [
      "C:\\Users\\ASUS\\anaconda3\\lib\\site-packages\\keras\\src\\ops\\nn.py:545: UserWarning: You are using a softmax over axis -1 of a tensor of shape (26, 1, 1). This axis has size 1. The softmax operation will always return the value 1, which is likely not what you intended. Did you mean to use a sigmoid instead?\n",
      "  warnings.warn(\n"
     ]
    },
    {
     "name": "stdout",
     "output_type": "stream",
     "text": [
      "Batch features shape: (26, 128)\n",
      "Batch images shape: (32, 224, 224, 3)\n",
      "Batch labels shape: (32,)\n",
      "Batch features shape: (32, 128)\n",
      "Batch images shape: (32, 224, 224, 3)\n",
      "Batch labels shape: (32,)\n",
      "Batch features shape: (32, 128)\n",
      "Batch images shape: (32, 224, 224, 3)\n",
      "Batch labels shape: (32,)\n",
      "Batch features shape: (32, 128)\n",
      "Batch images shape: (32, 224, 224, 3)\n",
      "Batch labels shape: (32,)\n",
      "Batch features shape: (32, 128)\n",
      "Batch images shape: (32, 224, 224, 3)\n",
      "Batch labels shape: (32,)\n",
      "Batch features shape: (32, 128)\n",
      "Batch images shape: (32, 224, 224, 3)\n",
      "Batch labels shape: (32,)\n",
      "Batch features shape: (32, 128)\n",
      "Batch images shape: (32, 224, 224, 3)\n",
      "Batch labels shape: (32,)\n",
      "Batch features shape: (32, 128)\n",
      "Batch images shape: (6, 224, 224, 3)\n",
      "Batch labels shape: (6,)\n",
      "Batch features shape: (6, 128)\n",
      "Batch images shape: (32, 224, 224, 3)\n",
      "Batch labels shape: (32,)\n",
      "Batch features shape: (32, 128)\n",
      "Batch images shape: (32, 224, 224, 3)\n",
      "Batch labels shape: (32,)\n",
      "Batch features shape: (32, 128)\n",
      "Batch images shape: (32, 224, 224, 3)\n",
      "Batch labels shape: (32,)\n",
      "Batch features shape: (32, 128)\n",
      "Batch images shape: (32, 224, 224, 3)\n",
      "Batch labels shape: (32,)\n",
      "Batch features shape: (32, 128)\n",
      "Batch images shape: (32, 224, 224, 3)\n",
      "Batch labels shape: (32,)\n",
      "Batch features shape: (32, 128)\n",
      "Batch images shape: (32, 224, 224, 3)\n",
      "Batch labels shape: (32,)\n",
      "Batch features shape: (32, 128)\n",
      "Batch images shape: (32, 224, 224, 3)\n",
      "Batch labels shape: (32,)\n",
      "Batch features shape: (32, 128)\n",
      "Batch images shape: (32, 224, 224, 3)\n",
      "Batch labels shape: (32,)\n",
      "Batch features shape: (32, 128)\n"
     ]
    }
   ],
   "source": [
    "train_features, train_labels = extract_features(train_dataset, combined_model)\n",
    "val_features, val_labels = extract_features(val_dataset, combined_model)\n",
    "test_features, test_labels = extract_features(test_dataset, combined_model)"
   ]
  },
  {
   "cell_type": "code",
   "execution_count": 48,
   "id": "7e39a471",
   "metadata": {},
   "outputs": [
    {
     "data": {
      "text/plain": [
       "Pipeline(steps=[('standardscaler', StandardScaler()),\n",
       "                ('logisticregression', LogisticRegression())])"
      ]
     },
     "execution_count": 48,
     "metadata": {},
     "output_type": "execute_result"
    }
   ],
   "source": [
    "meta_learner = make_pipeline(StandardScaler(), LogisticRegression())\n",
    "meta_learner.fit(train_features, train_labels)"
   ]
  },
  {
   "cell_type": "code",
   "execution_count": 49,
   "id": "fb37389c",
   "metadata": {},
   "outputs": [
    {
     "name": "stdout",
     "output_type": "stream",
     "text": [
      "Validation Accuracy: 0.85\n"
     ]
    }
   ],
   "source": [
    "val_predictions = meta_learner.predict(val_features)\n",
    "val_accuracy = accuracy_score(val_labels, val_predictions)\n",
    "print(f'Validation Accuracy: {val_accuracy:.2f}')"
   ]
  },
  {
   "cell_type": "code",
   "execution_count": 50,
   "id": "c9ed0207",
   "metadata": {},
   "outputs": [
    {
     "name": "stdout",
     "output_type": "stream",
     "text": [
      "Test Accuracy: 0.87\n"
     ]
    }
   ],
   "source": [
    "test_predictions = meta_learner.predict(test_features)\n",
    "test_accuracy = accuracy_score(test_labels, test_predictions)\n",
    "print(f'Test Accuracy: {test_accuracy:.2f}')"
   ]
  },
  {
   "cell_type": "code",
   "execution_count": 51,
   "id": "22b8b24d",
   "metadata": {},
   "outputs": [
    {
     "name": "stdout",
     "output_type": "stream",
     "text": [
      "              precision    recall  f1-score   support\n",
      "\n",
      "     Class 0       0.84      0.90      0.87       125\n",
      "     Class 1       0.90      0.84      0.87       131\n",
      "\n",
      "    accuracy                           0.87       256\n",
      "   macro avg       0.87      0.87      0.87       256\n",
      "weighted avg       0.87      0.87      0.87       256\n",
      "\n",
      "Precision: 0.87\n",
      "Recall: 0.87\n",
      "F1 Score: 0.87\n"
     ]
    }
   ],
   "source": [
    "from sklearn.metrics import precision_score, recall_score, f1_score, classification_report\n",
    "\n",
    "# Assuming you have your test predictions and true labels\n",
    "test_predictions = meta_learner.predict(test_features)\n",
    "\n",
    "# Print classification report including precision, recall, and f1-score\n",
    "report = classification_report(test_labels, test_predictions, target_names=['Class 0', 'Class 1'])\n",
    "print(report)\n",
    "\n",
    "# Compute individual metrics\n",
    "precision = precision_score(test_labels, test_predictions, average='weighted')\n",
    "recall = recall_score(test_labels, test_predictions, average='weighted')\n",
    "f1 = f1_score(test_labels, test_predictions, average='weighted')\n",
    "\n",
    "print(f'Precision: {precision:.2f}')\n",
    "print(f'Recall: {recall:.2f}')\n",
    "print(f'F1 Score: {f1:.2f}')\n"
   ]
  },
  {
   "cell_type": "code",
   "execution_count": 52,
   "id": "8b1b21cd",
   "metadata": {},
   "outputs": [
    {
     "data": {
      "image/png": "[encoded data removed]",
      "text/plain": [
       "<Figure size 640x480 with 1 Axes>"
      ]
     },
     "metadata": {},
     "output_type": "display_data"
    }
   ],
   "source": [
    "import matplotlib.pyplot as plt\n",
    "from sklearn.metrics import roc_curve, auc\n",
    "\n",
    "# Get predicted probabilities\n",
    "y_prob = meta_learner.predict_proba(test_features)[:, 1]\n",
    "\n",
    "# Compute ROC curve\n",
    "fpr, tpr, _ = roc_curve(test_labels, y_prob, pos_label=1)\n",
    "roc_auc = auc(fpr, tpr)\n",
    "\n",
    "# Plot ROC curve\n",
    "plt.figure()\n",
    "plt.plot(fpr, tpr, color='blue', lw=2, label='ROC curve (area = %0.2f)' % roc_auc)\n",
    "plt.plot([0, 1], [0, 1], color='gray', linestyle='--')\n",
    "plt.xlim([0.0, 1.0])\n",
    "plt.ylim([0.0, 1.05])\n",
    "plt.xlabel('False Positive Rate')\n",
    "plt.ylabel('True Positive Rate')\n",
    "plt.title('Receiver Operating Characteristic (ROC)')\n",
    "plt.legend(loc='lower right')\n",
    "plt.show()"
   ]
  },
  {
   "cell_type": "code",
   "execution_count": 53,
   "id": "8a3a0d4f",
   "metadata": {},
   "outputs": [
    {
     "data": {
      "image/png": "[encoded data removed]",
      "text/plain": [
       "<Figure size 640x480 with 1 Axes>"
      ]
     },
     "metadata": {},
     "output_type": "display_data"
    }
   ],
   "source": [
    "from sklearn.metrics import precision_recall_curve\n",
    "\n",
    "# Compute precision-recall curve\n",
    "precision, recall, _ = precision_recall_curve(test_labels, y_prob)\n",
    "pr_auc = auc(recall, precision)\n",
    "\n",
    "# Plot Precision-Recall curve\n",
    "plt.figure()\n",
    "plt.plot(recall, precision, color='blue', lw=2, label='Precision-Recall curve (area = %0.2f)' % pr_auc)\n",
    "plt.xlabel('Recall')\n",
    "plt.ylabel('Precision')\n",
    "plt.title('Precision-Recall Curve')\n",
    "plt.legend(loc='lower left')\n",
    "plt.show()"
   ]
  },
  {
   "cell_type": "code",
   "execution_count": 54,
   "id": "b25738c5",
   "metadata": {},
   "outputs": [
    {
     "name": "stderr",
     "output_type": "stream",
     "text": [
      "WARNING:absl:You are saving your model as an HDF5 file via `model.save()` or `keras.saving.save_model(model)`. This file format is considered legacy. We recommend using instead the native Keras format, e.g. `model.save('my_model.keras')` or `keras.saving.save_model(model, 'my_model.keras')`. \n"
     ]
    }
   ],
   "source": [
    "# Save the entire model\n",
    "combined_model.save('path_to_your_model/combined_model.h5')"
   ]
  },
  {
   "cell_type": "code",
   "execution_count": null,
   "id": "bfb89cc1",
   "metadata": {},
   "outputs": [],
   "source": []
  }
 ],
 "metadata": {
  "kernelspec": {
   "display_name": "Python 3 (ipykernel)",
   "language": "python",
   "name": "python3"
  },
  "language_info": {
   "codemirror_mode": {
    "name": "ipython",
    "version": 3
   },
   "file_extension": ".py",
   "mimetype": "text/x-python",
   "name": "python",
   "nbconvert_exporter": "python",
   "pygments_lexer": "ipython3",
   "version": "3.9.13"
  }
 },
 "nbformat": 4,
 "nbformat_minor": 5
}
